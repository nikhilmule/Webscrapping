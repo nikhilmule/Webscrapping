{
 "cells": [
  {
   "cell_type": "markdown",
   "metadata": {},
   "source": [
    "# Webscrapping the IATA code website"
   ]
  },
  {
   "cell_type": "markdown",
   "metadata": {},
   "source": [
    "## Objective:\n",
    "\n",
    "- ## The main "
   ]
  },
  {
   "cell_type": "code",
   "execution_count": 1,
   "metadata": {},
   "outputs": [],
   "source": [
    "from selenium import webdriver\n",
    "from selenium.webdriver.common.by import By\n",
    "from selenium.webdriver.support.ui import WebDriverWait\n",
    "from selenium.webdriver.support import expected_conditions as EC\n",
    "from selenium.webdriver.chrome.options import Options\n",
    "import time\n",
    "from bs4 import BeautifulSoup\n",
    "import requests\n",
    "import pandas as pd"
   ]
  },
  {
   "cell_type": "code",
   "execution_count": 2,
   "metadata": {},
   "outputs": [],
   "source": [
    "options = Options()\n",
    "options.add_experimental_option('excludeSwitches', ['enable-logging'])\n",
    "options.page_load_strategy = 'eager' #to avoid the timeexception "
   ]
  },
  {
   "cell_type": "code",
   "execution_count": 3,
   "metadata": {},
   "outputs": [
    {
     "name": "stderr",
     "output_type": "stream",
     "text": [
      "<ipython-input-3-f39e680cdbb9>:1: DeprecationWarning: executable_path has been deprecated, please pass in a Service object\n",
      "  driver = webdriver.Chrome(executable_path= \"C:\\\\selenium browser drivers\\\\chromedriver.exe\", options= options)\n"
     ]
    }
   ],
   "source": [
    "driver = webdriver.Chrome(executable_path= \"C:\\\\selenium browser drivers\\\\chromedriver.exe\", options= options)\n",
    "driver.get(\"https://airportcod.es/\")"
   ]
  },
  {
   "cell_type": "code",
   "execution_count": 4,
   "metadata": {},
   "outputs": [],
   "source": [
    "page_sour = driver.page_source\n",
    "from bs4 import BeautifulSoup\n",
    "soup = BeautifulSoup(page_sour, 'lxml')\n",
    "d1 = soup.find_all('ul', {'class': 'cf airport-list'})\n",
    "d2 = d1[0]"
   ]
  },
  {
   "cell_type": "code",
   "execution_count": 5,
   "metadata": {},
   "outputs": [],
   "source": [
    "url = []\n",
    "for i in d2:\n",
    "   k = i.find('a')['href']\n",
    "   url.append('https://airportcod.es/'+k)"
   ]
  },
  {
   "cell_type": "code",
   "execution_count": 6,
   "metadata": {},
   "outputs": [],
   "source": [
    "Airport_code = []\n",
    "Airport_name = []\n",
    "Airport_address = []\n",
    "Airport_description = []\n",
    "for i in range(len(url)-1):\n",
    "    driver.get(url[i])\n",
    "    page_sour2 = driver.page_source\n",
    "    soup3 = BeautifulSoup(page_sour2, 'lxml')\n",
    "    ac = soup3.find_all('div', {'class': 'container'})[i].find('h1').get_text()\n",
    "    Airport_code.append(ac)\n",
    "    an = soup3.find_all('div', {'class': 'container'})[i].find('h2').get_text()\n",
    "    Airport_name.append(an)\n",
    "    aa = soup3.find_all('div', {'class': 'container'})[i].find('h3').get_text(' ')\n",
    "    Airport_address.append(aa)\n",
    "    ad = soup3.find_all('div', {'class': 'container'})[i].find('div', {'class': 'description'}).get_text()\n",
    "    Airport_description.append(ad)\n",
    "    "
   ]
  },
  {
   "cell_type": "code",
   "execution_count": 8,
   "metadata": {},
   "outputs": [],
   "source": [
    "df = pd.DataFrame({'Airport_code': Airport_code, 'Airport_name':Airport_name,\n",
    "              'Airport_address' :Airport_address, 'Airport_description': Airport_description})"
   ]
  },
  {
   "cell_type": "code",
   "execution_count": 9,
   "metadata": {},
   "outputs": [],
   "source": [
    "df.to_csv('IATA_codes.csv')"
   ]
  },
  {
   "cell_type": "code",
   "execution_count": null,
   "metadata": {},
   "outputs": [],
   "source": []
  }
 ],
 "metadata": {
  "interpreter": {
   "hash": "07efdcd4b820c98a756949507a4d29d7862823915ec7477944641bea022f4f62"
  },
  "kernelspec": {
   "display_name": "Python 3.8.8 64-bit ('base': conda)",
   "language": "python",
   "name": "python3"
  },
  "language_info": {
   "codemirror_mode": {
    "name": "ipython",
    "version": 3
   },
   "file_extension": ".py",
   "mimetype": "text/x-python",
   "name": "python",
   "nbconvert_exporter": "python",
   "pygments_lexer": "ipython3",
   "version": "3.8.8"
  },
  "orig_nbformat": 4
 },
 "nbformat": 4,
 "nbformat_minor": 2
}
