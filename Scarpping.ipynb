{
 "cells": [
  {
   "cell_type": "markdown",
   "metadata": {},
   "source": [
    "# Webscrapping the IATA code website"
   ]
  },
  {
   "cell_type": "markdown",
   "metadata": {},
   "source": [
    "## Objective:\n",
    "\n",
    "- ## The main goal of this work is to get all IATA codes of all airports across the world\n",
    "- ## Where IATA is International Air Transport Association which issues the 3 letters codes like for example AAL (IATA code) - Aalborg Airport\n",
    "- ## Convert the extracted data into dataframe and save it\n",
    "- ## selenium, pandas, bs4 libraries are used in this work"
   ]
  },
  {
   "cell_type": "code",
   "execution_count": 4,
   "metadata": {},
   "outputs": [],
   "source": [
    "from selenium import webdriver\n",
    "from selenium.webdriver.common.by import By\n",
    "from selenium.webdriver.support.ui import WebDriverWait\n",
    "from selenium.webdriver.support import expected_conditions as EC\n",
    "from selenium.webdriver.chrome.options import Options\n",
    "import time\n",
    "from bs4 import BeautifulSoup\n",
    "import requests\n",
    "import pandas as pd"
   ]
  },
  {
   "cell_type": "code",
   "execution_count": 5,
   "metadata": {},
   "outputs": [],
   "source": [
    "options = Options()\n",
    "options.add_experimental_option('excludeSwitches', ['enable-logging'])\n",
    "options.page_load_strategy = 'eager' #to avoid the timeexception "
   ]
  },
  {
   "cell_type": "code",
   "execution_count": 6,
   "metadata": {},
   "outputs": [
    {
     "name": "stderr",
     "output_type": "stream",
     "text": [
      "<ipython-input-6-f39e680cdbb9>:1: DeprecationWarning: executable_path has been deprecated, please pass in a Service object\n",
      "  driver = webdriver.Chrome(executable_path= \"C:\\\\selenium browser drivers\\\\chromedriver.exe\", options= options)\n"
     ]
    }
   ],
   "source": [
    "driver = webdriver.Chrome(executable_path= \"C:\\\\selenium browser drivers\\\\chromedriver.exe\", options= options)\n",
    "driver.get(\"https://airportcod.es/\")"
   ]
  },
  {
   "cell_type": "code",
   "execution_count": 7,
   "metadata": {},
   "outputs": [],
   "source": [
    "page_sour = driver.page_source\n",
    "from bs4 import BeautifulSoup\n",
    "soup = BeautifulSoup(page_sour, 'lxml')\n",
    "d1 = soup.find_all('ul', {'class': 'cf airport-list'})\n",
    "d2 = d1[0]"
   ]
  },
  {
   "cell_type": "code",
   "execution_count": 8,
   "metadata": {},
   "outputs": [],
   "source": [
    "url = []\n",
    "for i in d2:\n",
    "   k = i.find('a')['href']\n",
    "   url.append('https://airportcod.es/'+k)"
   ]
  },
  {
   "cell_type": "code",
   "execution_count": 9,
   "metadata": {},
   "outputs": [],
   "source": [
    "Airport_code = []\n",
    "Airport_name = []\n",
    "Airport_address = []\n",
    "Airport_description = []\n",
    "for i in range(len(url)-1):\n",
    "    driver.get(url[i])\n",
    "    page_sour2 = driver.page_source\n",
    "    soup3 = BeautifulSoup(page_sour2, 'lxml')\n",
    "    ac = soup3.find_all('div', {'class': 'container'})[i].find('h1').get_text()\n",
    "    Airport_code.append(ac)\n",
    "    an = soup3.find_all('div', {'class': 'container'})[i].find('h2').get_text()\n",
    "    Airport_name.append(an)\n",
    "    aa = soup3.find_all('div', {'class': 'container'})[i].find('h3').get_text(' ')\n",
    "    Airport_address.append(aa)\n",
    "    ad = soup3.find_all('div', {'class': 'container'})[i].find('div', {'class': 'description'}).get_text()\n",
    "    Airport_description.append(ad)\n",
    "    "
   ]
  },
  {
   "cell_type": "code",
   "execution_count": 10,
   "metadata": {},
   "outputs": [
    {
     "data": {
      "text/html": [
       "<div>\n",
       "<style scoped>\n",
       "    .dataframe tbody tr th:only-of-type {\n",
       "        vertical-align: middle;\n",
       "    }\n",
       "\n",
       "    .dataframe tbody tr th {\n",
       "        vertical-align: top;\n",
       "    }\n",
       "\n",
       "    .dataframe thead th {\n",
       "        text-align: right;\n",
       "    }\n",
       "</style>\n",
       "<table border=\"1\" class=\"dataframe\">\n",
       "  <thead>\n",
       "    <tr style=\"text-align: right;\">\n",
       "      <th></th>\n",
       "      <th>Airport_code</th>\n",
       "      <th>Airport_name</th>\n",
       "      <th>Airport_address</th>\n",
       "      <th>Airport_description</th>\n",
       "    </tr>\n",
       "  </thead>\n",
       "  <tbody>\n",
       "    <tr>\n",
       "      <th>0</th>\n",
       "      <td>aal</td>\n",
       "      <td>Aalborg Lufthavn</td>\n",
       "      <td>Aalborg Denmark</td>\n",
       "      <td>Located in the city of Nørresundby, Aalborg Ai...</td>\n",
       "    </tr>\n",
       "    <tr>\n",
       "      <th>1</th>\n",
       "      <td>aar</td>\n",
       "      <td>Aarhus Airport</td>\n",
       "      <td>Aarhus Denmark</td>\n",
       "      <td>Originally built in 1946, Aarhus Airport has s...</td>\n",
       "    </tr>\n",
       "    <tr>\n",
       "      <th>2</th>\n",
       "      <td>aba</td>\n",
       "      <td>Abakan International Airport</td>\n",
       "      <td>Abakan Russia</td>\n",
       "      <td>Abakan International Airport is located in Aba...</td>\n",
       "    </tr>\n",
       "    <tr>\n",
       "      <th>3</th>\n",
       "      <td>abc</td>\n",
       "      <td>Aeropuerto de Albacete</td>\n",
       "      <td>Albacete Spain</td>\n",
       "      <td>Opened in 1929, Albacete Airport is located on...</td>\n",
       "    </tr>\n",
       "    <tr>\n",
       "      <th>4</th>\n",
       "      <td>abe</td>\n",
       "      <td>Lehigh Valley International Airport</td>\n",
       "      <td>Allentown PA USA</td>\n",
       "      <td>Opened in 1929 and still operating from its or...</td>\n",
       "    </tr>\n",
       "  </tbody>\n",
       "</table>\n",
       "</div>"
      ],
      "text/plain": [
       "  Airport_code                         Airport_name   Airport_address  \\\n",
       "0          aal                     Aalborg Lufthavn   Aalborg Denmark   \n",
       "1          aar                       Aarhus Airport    Aarhus Denmark   \n",
       "2          aba         Abakan International Airport     Abakan Russia   \n",
       "3          abc               Aeropuerto de Albacete    Albacete Spain   \n",
       "4          abe  Lehigh Valley International Airport  Allentown PA USA   \n",
       "\n",
       "                                 Airport_description  \n",
       "0  Located in the city of Nørresundby, Aalborg Ai...  \n",
       "1  Originally built in 1946, Aarhus Airport has s...  \n",
       "2  Abakan International Airport is located in Aba...  \n",
       "3  Opened in 1929, Albacete Airport is located on...  \n",
       "4  Opened in 1929 and still operating from its or...  "
      ]
     },
     "execution_count": 10,
     "metadata": {},
     "output_type": "execute_result"
    }
   ],
   "source": [
    "df = pd.DataFrame({'Airport_code': Airport_code, 'Airport_name':Airport_name,\n",
    "              'Airport_address' :Airport_address, 'Airport_description': Airport_description})\n",
    "df.head(5)"
   ]
  },
  {
   "cell_type": "code",
   "execution_count": 11,
   "metadata": {},
   "outputs": [],
   "source": [
    "df.to_csv('IATA_codes.csv')"
   ]
  },
  {
   "cell_type": "code",
   "execution_count": null,
   "metadata": {},
   "outputs": [],
   "source": []
  }
 ],
 "metadata": {
  "interpreter": {
   "hash": "07efdcd4b820c98a756949507a4d29d7862823915ec7477944641bea022f4f62"
  },
  "kernelspec": {
   "display_name": "Python 3.8.8 64-bit ('base': conda)",
   "language": "python",
   "name": "python3"
  },
  "language_info": {
   "codemirror_mode": {
    "name": "ipython",
    "version": 3
   },
   "file_extension": ".py",
   "mimetype": "text/x-python",
   "name": "python",
   "nbconvert_exporter": "python",
   "pygments_lexer": "ipython3",
   "version": "3.8.8"
  },
  "orig_nbformat": 4
 },
 "nbformat": 4,
 "nbformat_minor": 2
}
